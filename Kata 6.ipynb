{
 "cells": [
  {
   "cell_type": "markdown",
   "metadata": {},
   "source": [
    "# ejercicio 1 "
   ]
  },
  {
   "cell_type": "code",
   "execution_count": 4,
   "metadata": {},
   "outputs": [
    {
     "name": "stdout",
     "output_type": "stream",
     "text": [
      "There are 8 planets\n",
      "pluton is the last planet\n"
     ]
    }
   ],
   "source": [
    "planets = ['Mercurio', 'urano', 'venus', 'tierra', 'marte', 'jupiter', 'saturno', 'neptuno']\n",
    "\n",
    "print('There are', len(planets), 'planets')\n",
    "\n",
    "planets.append('pluton')\n",
    "\n",
    "print(planets[-1], 'is the last planet')"
   ]
  },
  {
   "cell_type": "markdown",
   "metadata": {},
   "source": [
    "# ejercicio 2 "
   ]
  },
  {
   "cell_type": "code",
   "execution_count": 12,
   "metadata": {},
   "outputs": [
    {
     "name": "stdout",
     "output_type": "stream",
     "text": [
      "los planetas más cercanos al sol Jupiter\n",
      "['Mercurio', 'Urano', 'Venus', 'Tierra', 'Marte']\n",
      "los planetas más alejados  Jupiter\n",
      "['Saturno', 'Neptuno']\n"
     ]
    }
   ],
   "source": [
    "planets = ['Mercurio', 'Urano', 'Venus', 'Tierra', 'Marte', 'Jupiter', 'Saturno', 'Neptuno']\n",
    "\n",
    "user_planet = input('por favor agregue el nombre de un planet empezando por mayusculas')\n",
    "\n",
    "planet_index = planets.index(user_planet)\n",
    "\n",
    "print('los planetas más cercanos al sol ' + user_planet)\n",
    "print(planets[0:planet_index])\n",
    "\n",
    "print('los planetas más alejados  ' + user_planet)\n",
    "print(planets[planet_index + 1:])\n",
    "\n"
   ]
  }
 ],
 "metadata": {
  "interpreter": {
   "hash": "187c2127ef4ed57ac57638b1a8e70006beb6c17077de7a09843b24c056c216e1"
  },
  "kernelspec": {
   "display_name": "Python 3.10.2 64-bit (windows store)",
   "language": "python",
   "name": "python3"
  },
  "language_info": {
   "codemirror_mode": {
    "name": "ipython",
    "version": 3
   },
   "file_extension": ".py",
   "mimetype": "text/x-python",
   "name": "python",
   "nbconvert_exporter": "python",
   "pygments_lexer": "ipython3",
   "version": "3.10.2"
  },
  "orig_nbformat": 4
 },
 "nbformat": 4,
 "nbformat_minor": 2
}
