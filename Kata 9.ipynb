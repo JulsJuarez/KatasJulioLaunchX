{
 "cells": [
  {
   "cell_type": "code",
   "execution_count": 11,
   "metadata": {},
   "outputs": [],
   "source": [
    "def generacion_de_reporte(tanque1, tanque2, tanque3):\n",
    "    total_average = (tanque1 + tanque2 + tanque3) / 3\n",
    "    return f\"\"\"Fuel Report:\n",
    "    Total Average: {total_average}%\n",
    "    tanque1: {tanque1}%\n",
    "    tanque2: {tanque2}%\n",
    "    tanque3: {tanque3}% \n",
    "    \"\"\"\n",
    "\n",
    "    print(generacion_de_reporte(40, 50, 60))\n",
    "\n",
    "def average(values):\n",
    "    total = sum(values)\n",
    "    number_of_items = len(values)\n",
    "    return total / number_of_items\n",
    "\n",
    "average([40, 50, 47]) \n",
    "\n",
    "def generacion_de_reporte(tanque1, tanque2, tanque3):\n",
    "    total_average =  (tanque1 + tanque2 + tanque3) / 3\n",
    "    return f\"\"\"Fuel report:\n",
    "    Total avage: {average ([tanque1, tanque2, tanque3])}%\n",
    "    tanque1: {tanque1}%\n",
    "    tanque2: {tanque2}%\n",
    "    tanque3: {tanque3}%\n",
    "    \"\"\"\n",
    "\n",
    "    print(generación_de_reporte(44,55,47))"
   ]
  },
  {
   "cell_type": "markdown",
   "metadata": {},
   "source": [
    "# Ejercicio 2"
   ]
  },
  {
   "cell_type": "code",
   "execution_count": 30,
   "metadata": {},
   "outputs": [
    {
     "name": "stdout",
     "output_type": "stream",
     "text": [
      "\n",
      "    Misión marte\n",
      "    tiempo total del viaje: 175 minutos \n",
      "    cantidad de combustible 9000 litros\n",
      "    \n"
     ]
    },
    {
     "ename": "SyntaxError",
     "evalue": "keyword argument repeated: tanque_externo (2391436648.py, line 16)",
     "output_type": "error",
     "traceback": [
      "\u001b[1;36m  Input \u001b[1;32mIn [30]\u001b[1;36m\u001b[0m\n\u001b[1;33m    print(reporte_de_misión(\"marte\",55, 44, 87, tanque_externo=5000, tanque_externo=4000))\u001b[0m\n\u001b[1;37m                                                                      ^\u001b[0m\n\u001b[1;31mSyntaxError\u001b[0m\u001b[1;31m:\u001b[0m keyword argument repeated: tanque_externo\n"
     ]
    }
   ],
   "source": [
    "def reporte_de_misión(tiempo_de_prelanzamiento, tiempo_de_vuelo, destino, tanque_externo, tanque_interno):\n",
    "    return f\"\"\"\n",
    "    Misión {destino}\n",
    "    tiempo total del viaje: {tiempo_de_prelanzamiento + tiempo_de_vuelo} minutos \n",
    "    cantidad de combustible {tanque_externo + tanque_interno} litros\n",
    "    \"\"\" \n",
    "\n",
    "print(reporte_de_misión(87, 88, \"marte\", 5000, 4000))\n",
    "\n"
   ]
  },
  {
   "cell_type": "code",
   "execution_count": 34,
   "metadata": {},
   "outputs": [
    {
     "ename": "IndentationError",
     "evalue": "unexpected indent (1688625654.py, line 9)",
     "output_type": "error",
     "traceback": [
      "\u001b[1;36m  Input \u001b[1;32mIn [34]\u001b[1;36m\u001b[0m\n\u001b[1;33m    for nombre_del_tanque, litros, in combustible_de_reserva.items()\u001b[0m\n\u001b[1;37m    ^\u001b[0m\n\u001b[1;31mIndentationError\u001b[0m\u001b[1;31m:\u001b[0m unexpected indent\n"
     ]
    }
   ],
   "source": [
    "def reporte_de_misión(destino, *minutos, **combustible_de_reserva):\n",
    "    return f\"\"\"\n",
    "    Misión: {destino}\n",
    "    Tiempo total del viaje: {sum (minutos)} minutos\n",
    "    Catidad de combustible {sum (combustible_de_reserva())}\n",
    "    \"\"\"\n",
    "print(reporte_de_misión(\"marte\",55, 44, 87, tanque_externo=5000, tanque_interno=4000))\n",
    "\n",
    "    for nombre_del_tanque, litros, in combustible_de_reserva.items()\n",
    "        return = {nombre_del_tanque} tanque -> [litros] litros perdidos\\n\"\n",
    "    \n",
    "    print(reporte_de_misión(\"marte\",55, 44, 87, tanque_externo=5000, tanque_interno=4000))\n"
   ]
  }
 ],
 "metadata": {
  "interpreter": {
   "hash": "187c2127ef4ed57ac57638b1a8e70006beb6c17077de7a09843b24c056c216e1"
  },
  "kernelspec": {
   "display_name": "Python 3.10.2 64-bit (windows store)",
   "language": "python",
   "name": "python3"
  },
  "language_info": {
   "codemirror_mode": {
    "name": "ipython",
    "version": 3
   },
   "file_extension": ".py",
   "mimetype": "text/x-python",
   "name": "python",
   "nbconvert_exporter": "python",
   "pygments_lexer": "ipython3",
   "version": "3.10.2"
  },
  "orig_nbformat": 4
 },
 "nbformat": 4,
 "nbformat_minor": 2
}
